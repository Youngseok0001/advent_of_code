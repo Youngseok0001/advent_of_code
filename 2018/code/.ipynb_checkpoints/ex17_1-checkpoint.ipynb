{
 "cells": [
  {
   "cell_type": "code",
   "execution_count": 6,
   "metadata": {},
   "outputs": [],
   "source": [
    "import matplotlib\n",
    "import re\n",
    "import itertools\n",
    "import numpy as np\n",
    "%matplotlib inline"
   ]
  },
  {
   "cell_type": "code",
   "execution_count": 9,
   "metadata": {},
   "outputs": [],
   "source": [
    "class problem: \n",
    "    def __init__(self, data_dir):\n",
    "        self.data_dir = data_dir\n",
    "        self.parse = self._parse\n",
    "        self.draw_environment = self._draw_environment\n",
    "    @property    \n",
    "    def _parse(self):\n",
    "        data_dir = self.data_dir\n",
    "        lines = open(data_dir).read().split(\"\\n\")[:-1]\n",
    "        nums = [re.findall(\"-?[0-9]{1,}\",line) for line in lines]\n",
    "        chars = [re.findall(\"[xy]\",line) for line in lines]\n",
    "        out = [{char[0]:num[0], char[1]:num[1:]} for  char, num in zip(chars, nums)]\n",
    "        return out\n",
    "    \n",
    "    @property\n",
    "    def _draw_environment(self):\n",
    "        inputs = self.parse\n",
    "        whiteboard = self._draw_whiteboard\n",
    "        environment = self.__draw_environment\n",
    "        return environment\n",
    "        \n",
    "    @property\n",
    "    def __draw_environment(self):\n",
    "        inputs  = self.parse\n",
    "        whiteboard = self._draw_whiteboard\n",
    "        pass\n",
    "        \n",
    "    @property        \n",
    "    def _draw_whiteboard(self):\n",
    "        y_min, y_max, x_min, x_max = self._get_min_max\n",
    "        return np.empty((y_max, x_max))\n",
    "    @property            \n",
    "    def _get_min_max(self):\n",
    "        inputs = self.parse\n",
    "        y_range = [v for input in inputs for k,v in input.items() if k == \"y\"] \n",
    "        y_min = min(int(y) for y in list(itertools.chain.from_iterable(y_range)))\n",
    "        y_max = max(int(y) for y in list(itertools.chain.from_iterable(y_range)))\n",
    "        x_range = [v for input in inputs for k,v in input.items() if k == \"x\"] \n",
    "        x_min = min(int(x) for x in list(itertools.chain.from_iterable(x_range)))\n",
    "        x_max = max(int(x) for x in list(itertools.chain.from_iterable(x_range)))\n",
    "        \n",
    "        return y_min, y_max, x_min, x_max\n"
   ]
  },
  {
   "cell_type": "code",
   "execution_count": 11,
   "metadata": {},
   "outputs": [
    {
     "data": {
      "text/plain": [
       "array([[0., 0., 0., ..., 0., 0., 0.],\n",
       "       [0., 0., 0., ..., 0., 0., 0.],\n",
       "       [0., 0., 0., ..., 0., 0., 0.],\n",
       "       ...,\n",
       "       [0., 0., 0., ..., 0., 0., 0.],\n",
       "       [0., 0., 0., ..., 0., 0., 0.],\n",
       "       [0., 0., 0., ..., 0., 0., 0.]])"
      ]
     },
     "execution_count": 11,
     "metadata": {},
     "output_type": "execute_result"
    }
   ],
   "source": [
    "data_dir = \"../data/day17.txt\"\n",
    "d = problem(data_dir)"
   ]
  }
 ],
 "metadata": {
  "kernelspec": {
   "display_name": "Python 3",
   "language": "python",
   "name": "py3"
  },
  "language_info": {
   "codemirror_mode": {
    "name": "ipython",
    "version": 3
   },
   "file_extension": ".py",
   "mimetype": "text/x-python",
   "name": "python",
   "nbconvert_exporter": "python",
   "pygments_lexer": "ipython3",
   "version": "3.6.5"
  }
 },
 "nbformat": 4,
 "nbformat_minor": 2
}
