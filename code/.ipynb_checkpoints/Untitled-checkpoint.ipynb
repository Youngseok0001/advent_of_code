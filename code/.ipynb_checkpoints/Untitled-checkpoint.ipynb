{
 "cells": [
  {
   "cell_type": "code",
   "execution_count": null,
   "metadata": {},
   "outputs": [],
   "source": [
    "from itertools import cycle, accumulate, islice, chain, groupby\n",
    "import re"
   ]
  },
  {
   "cell_type": "code",
   "execution_count": null,
   "metadata": {},
   "outputs": [],
   "source": [
    "##Ex2.1\n",
    "def get_set(list):\n",
    "    return {e:list.count(e) for e in list}\n",
    "\n",
    "def get_2_3(dic):\n",
    "    return [e[1] for e in dic.items() if e[1] in [2,3]]\n",
    "\n",
    "lists = [line for line in open(\"day2.1.txt\",\"r\").read().split(\"\\n\")]\n",
    "dicts = [get_set(list) for list in lists]\n",
    "two_three = [list(set(get_2_3(dic))) for dic in dicts]\n",
    "two = [1 for e in two_three if 2 in e]\n",
    "two_sum = sum(two)\n",
    "three = [1 for e in two_three if 3 in e]\n",
    "three_sum = sum(three)\n",
    "\n",
    "two_times_three = two_sum * three_sum\n",
    "print(two_times_three)"
   ]
  },
  {
   "cell_type": "code",
   "execution_count": null,
   "metadata": {},
   "outputs": [],
   "source": [
    "class fibo_class:\n",
    "    \n",
    "    def __init__(self,n):\n",
    "        self.n = n\n",
    "        self.counter = 0 \n",
    "        self.a = 0\n",
    "        self.b = 1\n",
    "        \n",
    "    def __iter__(self):\n",
    "        return self \n",
    "    \n",
    "    def __next__(self):\n",
    "        return self.next()\n",
    "    \n",
    "    def next(self):\n",
    "        if self.counter < self.n:\n",
    "            self.a, self.b = self.b, self.a + self.b \n",
    "            return self.a\n",
    "\n",
    "def fibo_gen(a=0, b=1, n = 100):\n",
    "    counter = 0\n",
    "    while counter < n:\n",
    "        a,b = b , a + b\n",
    "        yield a\n",
    "        \n",
    "fibo = fibo_gen()\n",
    "[next(fibo) for i in range(10)]       "
   ]
  },
  {
   "cell_type": "code",
   "execution_count": null,
   "metadata": {},
   "outputs": [],
   "source": [
    "from itertools import cycle\n",
    "\n",
    "img_dirs = cycle(iter([\"image_1\",'image_2',\"image_3\",\"image_4\"]))\n",
    "\n",
    "def batch_gen(img_dirs,batch_size,max_iter):\n",
    "    img_dirs = [img_dirs] * batch_size\n",
    "    iter = 0\n",
    "    while iter == max_iter: \n",
    "        image_dir_batch = zip(*img_dirs)\n",
    "        iter = iter + 1\n",
    "        return \n",
    "        "
   ]
  },
  {
   "cell_type": "code",
   "execution_count": null,
   "metadata": {},
   "outputs": [],
   "source": [
    "img_dirs = read_img_dir(\"path/to/imgs\")\n",
    "img_batch_generator = generate_img_batch(img_dirs, batch_size = 32, max_iter = 2)\n",
    "[img_batch for img_batch in img_batch_generator]"
   ]
  },
  {
   "cell_type": "code",
   "execution_count": null,
   "metadata": {},
   "outputs": [],
   "source": [
    "from itertools import cycle \n",
    "from random import shuffle\n",
    "\n",
    "def generate_img_batch(img_dirs, batch_size, max_iter):\n",
    "    img_dirs = cycle(iter(img_dirs))\n",
    "    \n",
    "    iters = [img_dirs] * batch_size\n",
    "    zipped = zip(*iters)\n",
    "    imgs_iters = [str(i) + \"read\" for i in zipped]\n",
    "    zipped = zip(*imgs_iters)\n",
    "    return zipped"
   ]
  },
  {
   "cell_type": "code",
   "execution_count": null,
   "metadata": {},
   "outputs": [],
   "source": [
    "img_dirs = [\"img_\" + str(i) for i in range(100)]\n",
    "shuffle(img_dirs)\n",
    "img_batch_generator = generate_img_batch(img_dirs, 32, 2)"
   ]
  },
  {
   "cell_type": "code",
   "execution_count": null,
   "metadata": {},
   "outputs": [],
   "source": [
    "[next(img_batch_generator) for _ in range(5)]"
   ]
  },
  {
   "cell_type": "code",
   "execution_count": 12,
   "metadata": {},
   "outputs": [],
   "source": [
    "from itertools import cycle \n",
    "\n",
    "def test(img_dir):\n",
    "    img_dir_iter = cycle(iter(img_dir))\n",
    "    img_iter = (str(img_dir) + \",read\" for img_dir in img_dir_iter)\n",
    "    img_iters = [cycle(img_iter)] * 5\n",
    "    return zip(*img_iters)"
   ]
  }
 ],
 "metadata": {
  "kernelspec": {
   "display_name": "Python 3",
   "language": "python",
   "name": "py3"
  },
  "language_info": {
   "codemirror_mode": {
    "name": "ipython",
    "version": 3
   },
   "file_extension": ".py",
   "mimetype": "text/x-python",
   "name": "python",
   "nbconvert_exporter": "python",
   "pygments_lexer": "ipython3",
   "version": "3.6.5"
  }
 },
 "nbformat": 4,
 "nbformat_minor": 2
}
