{
 "cells": [
  {
   "cell_type": "code",
   "execution_count": 15,
   "metadata": {
    "scrolled": true
   },
   "outputs": [],
   "source": [
    "from itertools import cycle\n",
    "\n",
    "m = {}; carts = {}; dir_d = {'<': -1, '>': 1, '^': 1j, 'v': -1j}\n",
    "for i, row in enumerate(open(\"../data/day13.txt\").read().split(\"\\n\")):\n",
    "    for j, c in enumerate(row):\n",
    "        loc = j-i*1j\n",
    "        if c in r'/\\+':\n",
    "            m[loc] = c\n",
    "        elif c in dir_d:\n",
    "            carts[loc] = dir_d[c], cycle([1j, 1, -1j])"
   ]
  },
  {
   "cell_type": "code",
   "execution_count": 16,
   "metadata": {},
   "outputs": [
    {
     "name": "stdout",
     "output_type": "stream",
     "text": [
      "collision! (129-50j) (cart (129-51j)\n",
      "collision! (53-83j) (cart (54-83j)\n",
      "collision! (120-20j) (cart (120-19j)\n",
      "collision! (18-44j) (cart (18-43j)\n",
      "collision! (34-10j) (cart (35-10j)\n",
      "collision! (138-95j) (cart (138-94j)\n",
      "collision! (46-40j) (cart (46-41j)\n",
      "collision! (29-74j) (cart (29-73j)\n",
      "{(69-73j): ((-0-1j), <itertools.cycle object at 0x104c82a68>)}\n"
     ]
    }
   ],
   "source": [
    "\n",
    "while len(carts) > 1:\n",
    "    for loc in sorted(carts, key=lambda x: (-x.imag, x.real)):\n",
    "        if loc not in carts:\n",
    "            continue  # deleted due to collision\n",
    "        dxn, turn = carts.pop(loc)  # take out cart\n",
    "        loc += dxn  # update position\n",
    "\n",
    "        if loc in carts:  # handle collision\n",
    "            print('collision!', loc, '(cart', loc - dxn)\n",
    "            del carts[loc]\n",
    "            continue\n",
    "\n",
    "        track = m.get(loc)  # update direction\n",
    "        if track == '+':\n",
    "            dxn = dxn * next(turn)\n",
    "        elif track is not None: #/ or \\\n",
    "            dxn *= 1j * (2*((track == '/') ^ (dxn.real == 0))-1)\n",
    "            \n",
    "        carts[loc] = dxn, turn  # put cart back onto tracks\n",
    "\n",
    "print(carts)"
   ]
  },
  {
   "cell_type": "code",
   "execution_count": null,
   "metadata": {},
   "outputs": [],
   "source": []
  }
 ],
 "metadata": {
  "kernelspec": {
   "display_name": "Python 3",
   "language": "python",
   "name": "py3"
  },
  "language_info": {
   "codemirror_mode": {
    "name": "ipython",
    "version": 3
   },
   "file_extension": ".py",
   "mimetype": "text/x-python",
   "name": "python",
   "nbconvert_exporter": "python",
   "pygments_lexer": "ipython3",
   "version": "3.6.5"
  }
 },
 "nbformat": 4,
 "nbformat_minor": 2
}
