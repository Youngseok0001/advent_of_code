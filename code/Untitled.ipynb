{
 "cells": [
  {
   "cell_type": "code",
   "execution_count": 3,
   "metadata": {
    "scrolled": true
   },
   "outputs": [],
   "source": [
    "from itertools import cycle\n",
    "\n",
    "m = {}; carts = {}; dir_d = {'<': -1, '>': 1, '^': 1j, 'v': -1j}\n",
    "for i, row in enumerate(open(\"../data/day13.txt\").read().split(\"\\n\")):\n",
    "    for j, c in enumerate(row):\n",
    "        loc = j-i*1j\n",
    "        if c in r'/\\+':\n",
    "            m[loc] = c\n",
    "        elif c in dir_d:\n",
    "            carts[loc] = dir_d[c], cycle([1j, 1, -1j])"
   ]
  },
  {
   "cell_type": "code",
   "execution_count": null,
   "metadata": {},
   "outputs": [],
   "source": [
    "while len(carts) > 1:\n",
    "    for loc in sorted(carts, key=lambda x: (-x.imag, x.real)):\n",
    "        if loc not in carts:\n",
    "            continue  # deleted due to collision\n",
    "        dxn, turn = carts.pop(loc)  # take out cart\n",
    "        loc += dxn  # update position\n",
    "\n",
    "        if loc in carts:  # handle collision\n",
    "            print('collision!', loc, '(cart', loc - dxn)\n",
    "            del carts[loc]\n",
    "            continue\n",
    "\n",
    "        track = m.get(loc)  # update direction\n",
    "        if track == '+':\n",
    "            dxn = dxn * next(turn)\n",
    "        elif track is not None: #/ or \\\n",
    "            dxn *= 1j * (2*((track == '/') ^ (dxn.real == 0))-1)\n",
    "            \n",
    "        carts[loc] = dxn, turn  # put cart back onto tracks\n",
    "\n",
    "print(carts)"
   ]
  },
  {
   "cell_type": "code",
   "execution_count": null,
   "metadata": {},
   "outputs": [],
   "source": []
  }
 ],
 "metadata": {
  "kernelspec": {
   "display_name": "Python 3",
   "language": "python",
   "name": "py3"
  },
  "language_info": {
   "codemirror_mode": {
    "name": "ipython",
    "version": 3
   },
   "file_extension": ".py",
   "mimetype": "text/x-python",
   "name": "python",
   "nbconvert_exporter": "python",
   "pygments_lexer": "ipython3",
   "version": "3.6.5"
  }
 },
 "nbformat": 4,
 "nbformat_minor": 2
}
